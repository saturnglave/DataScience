{
 "cells": [
  {
   "cell_type": "code",
   "execution_count": 2,
   "metadata": {},
   "outputs": [],
   "source": [
    "#coding:utf-8\n",
    "import folium\n",
    "import pandas as pd"
   ]
  },
  {
   "cell_type": "code",
   "execution_count": 29,
   "metadata": {},
   "outputs": [],
   "source": [
    "flags = pd.DataFrame({\n",
    "    'number':['1_Kyoto','2_Одеса','3_Dayton','4_Istanbul','5_AbuDhabi','6_KualaLumpur','7_AzisAbeba','8_Loja','9_Amsterdam','10_NewYork','11_Kodiak','12_Alexandria'],\n",
    "    'latitude':[35.028309,46.469391,39.758949,41.015137,24.466667,3.140853,\n",
    "                9.005401,-3.989038,52.377956,41.085651,57.790001,31.205753],\n",
    "    'longtude':[135.753082,30.740883,-84.191605,28.979530,54.366669,101.693207,\n",
    "                38.763611,-79.203560,4.897070,-73.858467,-152.407227,29.924526]\n",
    "})"
   ]
  },
  {
   "cell_type": "code",
   "execution_count": 30,
   "metadata": {},
   "outputs": [
    {
     "data": {
      "text/html": [
       "<div>\n",
       "<style scoped>\n",
       "    .dataframe tbody tr th:only-of-type {\n",
       "        vertical-align: middle;\n",
       "    }\n",
       "\n",
       "    .dataframe tbody tr th {\n",
       "        vertical-align: top;\n",
       "    }\n",
       "\n",
       "    .dataframe thead th {\n",
       "        text-align: right;\n",
       "    }\n",
       "</style>\n",
       "<table border=\"1\" class=\"dataframe\">\n",
       "  <thead>\n",
       "    <tr style=\"text-align: right;\">\n",
       "      <th></th>\n",
       "      <th>number</th>\n",
       "      <th>latitude</th>\n",
       "      <th>longtude</th>\n",
       "    </tr>\n",
       "  </thead>\n",
       "  <tbody>\n",
       "    <tr>\n",
       "      <td>0</td>\n",
       "      <td>1_Kyoto</td>\n",
       "      <td>35.028309</td>\n",
       "      <td>135.753082</td>\n",
       "    </tr>\n",
       "    <tr>\n",
       "      <td>1</td>\n",
       "      <td>2_Одеса</td>\n",
       "      <td>46.469391</td>\n",
       "      <td>30.740883</td>\n",
       "    </tr>\n",
       "    <tr>\n",
       "      <td>2</td>\n",
       "      <td>3_Dayton</td>\n",
       "      <td>39.758949</td>\n",
       "      <td>-84.191605</td>\n",
       "    </tr>\n",
       "    <tr>\n",
       "      <td>3</td>\n",
       "      <td>4_Istanbul</td>\n",
       "      <td>41.015137</td>\n",
       "      <td>28.979530</td>\n",
       "    </tr>\n",
       "    <tr>\n",
       "      <td>4</td>\n",
       "      <td>5_AbuDhabi</td>\n",
       "      <td>24.466667</td>\n",
       "      <td>54.366669</td>\n",
       "    </tr>\n",
       "    <tr>\n",
       "      <td>5</td>\n",
       "      <td>6_KualaLumpur</td>\n",
       "      <td>3.140853</td>\n",
       "      <td>101.693207</td>\n",
       "    </tr>\n",
       "    <tr>\n",
       "      <td>6</td>\n",
       "      <td>7_AzisAbeba</td>\n",
       "      <td>9.005401</td>\n",
       "      <td>38.763611</td>\n",
       "    </tr>\n",
       "    <tr>\n",
       "      <td>7</td>\n",
       "      <td>8_Loja</td>\n",
       "      <td>-3.989038</td>\n",
       "      <td>-79.203560</td>\n",
       "    </tr>\n",
       "    <tr>\n",
       "      <td>8</td>\n",
       "      <td>9_Amsterdam</td>\n",
       "      <td>52.377956</td>\n",
       "      <td>4.897070</td>\n",
       "    </tr>\n",
       "    <tr>\n",
       "      <td>9</td>\n",
       "      <td>10_NewYork</td>\n",
       "      <td>41.085651</td>\n",
       "      <td>-73.858467</td>\n",
       "    </tr>\n",
       "    <tr>\n",
       "      <td>10</td>\n",
       "      <td>11_Kodiak</td>\n",
       "      <td>57.790001</td>\n",
       "      <td>-152.407227</td>\n",
       "    </tr>\n",
       "    <tr>\n",
       "      <td>11</td>\n",
       "      <td>12_Alexandria</td>\n",
       "      <td>31.205753</td>\n",
       "      <td>29.924526</td>\n",
       "    </tr>\n",
       "  </tbody>\n",
       "</table>\n",
       "</div>"
      ],
      "text/plain": [
       "           number   latitude    longtude\n",
       "0         1_Kyoto  35.028309  135.753082\n",
       "1         2_Одеса  46.469391   30.740883\n",
       "2        3_Dayton  39.758949  -84.191605\n",
       "3      4_Istanbul  41.015137   28.979530\n",
       "4      5_AbuDhabi  24.466667   54.366669\n",
       "5   6_KualaLumpur   3.140853  101.693207\n",
       "6     7_AzisAbeba   9.005401   38.763611\n",
       "7          8_Loja  -3.989038  -79.203560\n",
       "8     9_Amsterdam  52.377956    4.897070\n",
       "9      10_NewYork  41.085651  -73.858467\n",
       "10      11_Kodiak  57.790001 -152.407227\n",
       "11  12_Alexandria  31.205753   29.924526"
      ]
     },
     "execution_count": 30,
     "metadata": {},
     "output_type": "execute_result"
    }
   ],
   "source": [
    "flags"
   ]
  },
  {
   "cell_type": "code",
   "execution_count": 31,
   "metadata": {},
   "outputs": [],
   "source": [
    "flag_map = folium.Map(location=[35.028309, 135.753082], zoom_start=5)"
   ]
  },
  {
   "cell_type": "code",
   "execution_count": 32,
   "metadata": {},
   "outputs": [],
   "source": [
    "for i, r in flags.iterrows():\n",
    "    folium.Marker(location=[r['latitude'], r['longtude']], popup=r['number']).add_to(flag_map)"
   ]
  },
  {
   "cell_type": "code",
   "execution_count": 33,
   "metadata": {},
   "outputs": [
    {
     "data": {
      "text/html": [
       "<div style=\"width:100%;\"><div style=\"position:relative;width:100%;height:0;padding-bottom:60%;\"><iframe src=\"data:text/html;charset=utf-8;base64,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\" style=\"position:absolute;width:100%;height:100%;left:0;top:0;border:none !important;\" allowfullscreen webkitallowfullscreen mozallowfullscreen></iframe></div></div>"
      ],
      "text/plain": [
       "<folium.folium.Map at 0x7fbff60b0ac8>"
      ]
     },
     "execution_count": 33,
     "metadata": {},
     "output_type": "execute_result"
    }
   ],
   "source": [
    "flag_map"
   ]
  },
  {
   "cell_type": "code",
   "execution_count": null,
   "metadata": {},
   "outputs": [],
   "source": []
  }
 ],
 "metadata": {
  "kernelspec": {
   "display_name": "Python 3",
   "language": "python",
   "name": "python3"
  },
  "language_info": {
   "codemirror_mode": {
    "name": "ipython",
    "version": 3
   },
   "file_extension": ".py",
   "mimetype": "text/x-python",
   "name": "python",
   "nbconvert_exporter": "python",
   "pygments_lexer": "ipython3",
   "version": "3.7.3"
  }
 },
 "nbformat": 4,
 "nbformat_minor": 2
}
