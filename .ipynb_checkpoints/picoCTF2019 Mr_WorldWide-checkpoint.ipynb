{
 "cells": [
  {
   "cell_type": "code",
   "execution_count": 7,
   "metadata": {},
   "outputs": [],
   "source": [
    "#coding:utf-8\n",
    "#docker exec container_name pip install folium\n",
    "import folium\n",
    "import pandas as pd"
   ]
  },
  {
   "cell_type": "code",
   "execution_count": 8,
   "metadata": {},
   "outputs": [],
   "source": [
    "flags = pd.DataFrame({\n",
    "    'number':['1_Kyoto','2_Одеса','3_Dayton','4_Istanbul','5_AbuDhabi','6_KualaLumpur','7_AzisAbeba','8_Loja','9_Amsterdam','10_SleepyHollow','11_Kodiak','12_Alexandria'],\n",
    "    'latitude':[35.028309,46.469391,39.758949,41.015137,24.466667,3.140853,\n",
    "                9.005401,-3.989038,52.377956,41.085651,57.790001,31.205753],\n",
    "    'longtude':[135.753082,30.740883,-84.191605,28.979530,54.366669,101.693207,\n",
    "                38.763611,-79.203560,4.897070,-73.858467,-152.407227,29.924526]\n",
    "})"
   ]
  },
  {
   "cell_type": "code",
   "execution_count": 9,
   "metadata": {},
   "outputs": [
    {
     "data": {
      "text/html": [
       "<div>\n",
       "<style scoped>\n",
       "    .dataframe tbody tr th:only-of-type {\n",
       "        vertical-align: middle;\n",
       "    }\n",
       "\n",
       "    .dataframe tbody tr th {\n",
       "        vertical-align: top;\n",
       "    }\n",
       "\n",
       "    .dataframe thead th {\n",
       "        text-align: right;\n",
       "    }\n",
       "</style>\n",
       "<table border=\"1\" class=\"dataframe\">\n",
       "  <thead>\n",
       "    <tr style=\"text-align: right;\">\n",
       "      <th></th>\n",
       "      <th>number</th>\n",
       "      <th>latitude</th>\n",
       "      <th>longtude</th>\n",
       "    </tr>\n",
       "  </thead>\n",
       "  <tbody>\n",
       "    <tr>\n",
       "      <td>0</td>\n",
       "      <td>1_Kyoto</td>\n",
       "      <td>35.028309</td>\n",
       "      <td>135.753082</td>\n",
       "    </tr>\n",
       "    <tr>\n",
       "      <td>1</td>\n",
       "      <td>2_Одеса</td>\n",
       "      <td>46.469391</td>\n",
       "      <td>30.740883</td>\n",
       "    </tr>\n",
       "    <tr>\n",
       "      <td>2</td>\n",
       "      <td>3_Dayton</td>\n",
       "      <td>39.758949</td>\n",
       "      <td>-84.191605</td>\n",
       "    </tr>\n",
       "    <tr>\n",
       "      <td>3</td>\n",
       "      <td>4_Istanbul</td>\n",
       "      <td>41.015137</td>\n",
       "      <td>28.979530</td>\n",
       "    </tr>\n",
       "    <tr>\n",
       "      <td>4</td>\n",
       "      <td>5_AbuDhabi</td>\n",
       "      <td>24.466667</td>\n",
       "      <td>54.366669</td>\n",
       "    </tr>\n",
       "    <tr>\n",
       "      <td>5</td>\n",
       "      <td>6_KualaLumpur</td>\n",
       "      <td>3.140853</td>\n",
       "      <td>101.693207</td>\n",
       "    </tr>\n",
       "    <tr>\n",
       "      <td>6</td>\n",
       "      <td>7_AzisAbeba</td>\n",
       "      <td>9.005401</td>\n",
       "      <td>38.763611</td>\n",
       "    </tr>\n",
       "    <tr>\n",
       "      <td>7</td>\n",
       "      <td>8_Loja</td>\n",
       "      <td>-3.989038</td>\n",
       "      <td>-79.203560</td>\n",
       "    </tr>\n",
       "    <tr>\n",
       "      <td>8</td>\n",
       "      <td>9_Amsterdam</td>\n",
       "      <td>52.377956</td>\n",
       "      <td>4.897070</td>\n",
       "    </tr>\n",
       "    <tr>\n",
       "      <td>9</td>\n",
       "      <td>10_SleepyHollow</td>\n",
       "      <td>41.085651</td>\n",
       "      <td>-73.858467</td>\n",
       "    </tr>\n",
       "    <tr>\n",
       "      <td>10</td>\n",
       "      <td>11_Kodiak</td>\n",
       "      <td>57.790001</td>\n",
       "      <td>-152.407227</td>\n",
       "    </tr>\n",
       "    <tr>\n",
       "      <td>11</td>\n",
       "      <td>12_Alexandria</td>\n",
       "      <td>31.205753</td>\n",
       "      <td>29.924526</td>\n",
       "    </tr>\n",
       "  </tbody>\n",
       "</table>\n",
       "</div>"
      ],
      "text/plain": [
       "             number   latitude    longtude\n",
       "0           1_Kyoto  35.028309  135.753082\n",
       "1           2_Одеса  46.469391   30.740883\n",
       "2          3_Dayton  39.758949  -84.191605\n",
       "3        4_Istanbul  41.015137   28.979530\n",
       "4        5_AbuDhabi  24.466667   54.366669\n",
       "5     6_KualaLumpur   3.140853  101.693207\n",
       "6       7_AzisAbeba   9.005401   38.763611\n",
       "7            8_Loja  -3.989038  -79.203560\n",
       "8       9_Amsterdam  52.377956    4.897070\n",
       "9   10_SleepyHollow  41.085651  -73.858467\n",
       "10        11_Kodiak  57.790001 -152.407227\n",
       "11    12_Alexandria  31.205753   29.924526"
      ]
     },
     "execution_count": 9,
     "metadata": {},
     "output_type": "execute_result"
    }
   ],
   "source": [
    "flags"
   ]
  },
  {
   "cell_type": "code",
   "execution_count": 10,
   "metadata": {},
   "outputs": [],
   "source": [
    "flag_map = folium.Map(location=[35.028309, 135.753082], zoom_start=5)"
   ]
  },
  {
   "cell_type": "code",
   "execution_count": 11,
   "metadata": {},
   "outputs": [],
   "source": [
    "for i, r in flags.iterrows():\n",
    "    folium.Marker(location=[r['latitude'], r['longtude']], popup=r['number']).add_to(flag_map)"
   ]
  },
  {
   "cell_type": "code",
   "execution_count": 12,
   "metadata": {},
   "outputs": [
    {
     "data": {
      "text/html": [
       "<div style=\"width:100%;\"><div style=\"position:relative;width:100%;height:0;padding-bottom:60%;\"><iframe src=\"data:text/html;charset=utf-8;base64,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\" style=\"position:absolute;width:100%;height:100%;left:0;top:0;border:none !important;\" allowfullscreen webkitallowfullscreen mozallowfullscreen></iframe></div></div>"
      ],
      "text/plain": [
       "<folium.folium.Map at 0x7f8c62fbc630>"
      ]
     },
     "execution_count": 12,
     "metadata": {},
     "output_type": "execute_result"
    }
   ],
   "source": [
    "flag_map"
   ]
  },
  {
   "cell_type": "code",
   "execution_count": null,
   "metadata": {},
   "outputs": [],
   "source": [
    "#flag: picoCTF{KODIAK_ALANKA}"
   ]
  }
 ],
 "metadata": {
  "kernelspec": {
   "display_name": "Python 3",
   "language": "python",
   "name": "python3"
  },
  "language_info": {
   "codemirror_mode": {
    "name": "ipython",
    "version": 3
   },
   "file_extension": ".py",
   "mimetype": "text/x-python",
   "name": "python",
   "nbconvert_exporter": "python",
   "pygments_lexer": "ipython3",
   "version": "3.7.3"
  }
 },
 "nbformat": 4,
 "nbformat_minor": 2
}
